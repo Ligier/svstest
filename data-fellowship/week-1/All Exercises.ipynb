{
 "cells": [
  {
   "cell_type": "markdown",
   "metadata": {},
   "source": [
    "## Day 1"
   ]
  },
  {
   "cell_type": "markdown",
   "metadata": {},
   "source": [
    "## Ciphers Galore\n",
    "\n",
    "We're going to encrypt some text with the help of some simple ciphers. We'll implement an easy one (a shift cipher) and then make it a bit more complex/flexible. "
   ]
  },
  {
   "cell_type": "markdown",
   "metadata": {},
   "source": [
    "### Caesar Cipher\n",
    "\n",
    "First off, let's look at a Caesar shift cipher. Basically, we want to write a program that takes an input from the user (some text) and another input (shift number) and shifts every letter by the shift number to the right. \n",
    "\n",
    "Example input: hello, world  \n",
    "Example shift: 3  \n",
    "Example output: khoor, zruog\n",
    "\n",
    "Few hints:\n",
    "\n",
    "1. Remember, you can't manipulate strings because they're immutable (convert to list?)\n",
    "2. All letters (lowercase and uppercase) are associated with an ASCII number. Maybe you can add the number 3 to a letter's ASCII number?\n",
    "3. Anything that's not a letter should remain the same (spaces, punctuation, etc.)\n",
    "4. If you have something towards the end of the alphabet (z for example), you should wrap around\n",
    "5. Capitalization matters\n",
    "6. You can shift more than 26 letters, it just cycles back to the corresponding letter in the alphabet (ex: a shift of 27 is a shift of 1)\n",
    "\n",
    "Your code should be structured as follows:\n",
    "\n",
    "+ input text  \n",
    "+ input shift  \n",
    "+ def caesar_cipher(text, shift)  \n",
    "    - code to shift the text  \n",
    "+ print(caesar_cipher(text, shift))"
   ]
  },
  {
   "cell_type": "code",
   "execution_count": 53,
   "metadata": {},
   "outputs": [
    {
     "name": "stdout",
     "output_type": "stream",
     "text": [
      "Enter the text you want to encrypt: Zume, Pizza\n",
      "Shift: 57\n",
      "Ezrj, Uneef\n"
     ]
    }
   ],
   "source": [
    "text = input(\"Enter the text you want to encrypt: \")\n",
    "shift = int(input(\"Shift: \"))\n",
    "\n",
    "def caesar_cipher(text, shift):\n",
    "    text_to_list = list(text)\n",
    "    for i in range(len(text_to_list)):\n",
    "        ascii_char = ord(text_to_list[i])\n",
    "        if (65 <= ascii_char <= 90):\n",
    "            new_ascii = ascii_char + shift % 26\n",
    "            if new_ascii > 90:\n",
    "                new_ascii = (new_ascii % 90) + 64\n",
    "            text_to_list[i] = chr(new_ascii)\n",
    "        elif (97 <= ascii_char <= 122):\n",
    "            new_ascii = ascii_char + shift % 26\n",
    "            if new_ascii > 122:\n",
    "                new_ascii = (new_ascii % 122) + 96\n",
    "            text_to_list[i] = chr(new_ascii)\n",
    "    new_string = ''.join(text_to_list)\n",
    "    return new_string\n",
    "    \n",
    "print(caesar_cipher(text, shift))"
   ]
  },
  {
   "cell_type": "markdown",
   "metadata": {},
   "source": [
    "### Caesar's Cipher Test Cases\n",
    "\n",
    "Input: helloworld  \n",
    "Shift: 4  \n",
    "Output: lippsasvph    \n",
    "\n",
    "Input: tester123  \n",
    "Shift: 108  \n",
    "Output: xiwxiv123  \n",
    "\n",
    "Input: Zume, Pizza  \n",
    "Shift: 57  \n",
    "Output: Ezrj, Uneef  "
   ]
  },
  {
   "cell_type": "markdown",
   "metadata": {},
   "source": [
    "### Vigenere's Cipher\n",
    "\n",
    "This is similar to Caesar's cipher except it uses a word as a key instead of a single number, making it more secure. The way it works is as follows:\n",
    "\n",
    "1. You input text and a shift keyword\n",
    "2. For each letter in the shift keyword, that letter becomes \"A\" in the corresponding alphabet\n",
    "3. The shift keyword will repeat cyclically until it matches the length of input text\n",
    "\n",
    "Example:\n",
    "\n",
    "Input word: hello  \n",
    "Input key: ay  \n",
    "Output word: h   "
   ]
  },
  {
   "cell_type": "code",
   "execution_count": null,
   "metadata": {
    "collapsed": true
   },
   "outputs": [],
   "source": []
  }
 ],
 "metadata": {
  "kernelspec": {
   "display_name": "Python 3",
   "language": "python",
   "name": "python3"
  },
  "language_info": {
   "codemirror_mode": {
    "name": "ipython",
    "version": 3
   },
   "file_extension": ".py",
   "mimetype": "text/x-python",
   "name": "python",
   "nbconvert_exporter": "python",
   "pygments_lexer": "ipython3",
   "version": "3.6.5"
  }
 },
 "nbformat": 4,
 "nbformat_minor": 2
}
