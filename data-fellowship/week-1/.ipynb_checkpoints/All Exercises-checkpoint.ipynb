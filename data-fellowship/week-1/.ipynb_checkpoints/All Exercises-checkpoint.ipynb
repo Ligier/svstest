{
 "cells": [
  {
   "cell_type": "markdown",
   "metadata": {},
   "source": [
    "## Day 1"
   ]
  },
  {
   "cell_type": "markdown",
   "metadata": {},
   "source": [
    "## Ciphers Galore\n",
    "\n",
    "We're going to encrypt some text with the help of some simple ciphers. We'll implement an easy one (a shift cipher) and then make it a bit more complex/flexible. "
   ]
  },
  {
   "cell_type": "markdown",
   "metadata": {},
   "source": [
    "### Simple Cipher\n",
    "\n",
    "First off, let's look at a basic shift cipher. We'll use a shift of 3 to start. Basically, we want to write a program that takes an input from the user (some text) and shifts every letter 3 to the right. \n",
    "\n",
    "Example input: hello, world  \n",
    "Example output: khoor, zruog\n",
    "\n",
    "Few hints:\n",
    "\n",
    "1. Remember, you can't manipulate strings because they're immutable (convert to list?)\n",
    "2. All letters (lowercase and uppercase) are associated with an ASCII number. Maybe you can add the number 3 to a letter's ASCII number?\n",
    "3. Anything that's not a letter should remain the same (spaces, punctuation, etc.)\n",
    "4. If you have something towards the end of the alphabet (z for example), you should wrap around\n",
    "5. Capitalization matters"
   ]
  },
  {
   "cell_type": "code",
   "execution_count": 24,
   "metadata": {},
   "outputs": [
    {
     "name": "stdout",
     "output_type": "stream",
     "text": [
      "Enter the text you want to encrypt: hello, world\n",
      "nkrru, }uxrj\n"
     ]
    }
   ],
   "source": [
    "text = input(\"Enter the text you want to encrypt: \")\n",
    "text_to_list = list(text)\n",
    "for i in range(len(text_to_list)):\n",
    "    ascii_char = ord(text_to_list[i])\n",
    "    if (65 <= ascii_char <= 90):\n",
    "        new_ascii = ascii_char + 3\n",
    "        print new_ascii\n",
    "        if new_ascii > 90:\n",
    "            new_ascii = new_ascii - 90 + 65\n",
    "        text_to_list[i] = chr(new_ascii + 3)\n",
    "    elif (97 <= ascii_char <= 122):\n",
    "        new_ascii = ascii_char + 3\n",
    "        print new_ascii\n",
    "        if new_ascii > 122:\n",
    "            new_ascii = new_ascii - 122 + 97\n",
    "        text_to_list[i] = chr(new_ascii + 3)\n",
    "new_string = ''.join(text_to_list)\n",
    "print(new_string)"
   ]
  },
  {
   "cell_type": "markdown",
   "metadata": {},
   "source": [
    "### Test Cases\n",
    "\n",
    "Also, we're going to be learning about test cases. These are basically a bunch of sample inputs that you should run which will test the strength of your code. It tests for edge cases where your code might not produce the correct output to make sure you've covered all your bases.\n",
    "\n",
    "#### Simple Cipher Test Cases\n",
    "\n",
    "Input: helloworld\n",
    "Output: khoorzruog\n",
    "\n",
    "Input: hello, world\n",
    "Output: khoor, zruog\n",
    "\n"
   ]
  },
  {
   "cell_type": "code",
   "execution_count": null,
   "metadata": {
    "collapsed": true
   },
   "outputs": [],
   "source": []
  }
 ],
 "metadata": {
  "kernelspec": {
   "display_name": "Python 3",
   "language": "python",
   "name": "python3"
  },
  "language_info": {
   "codemirror_mode": {
    "name": "ipython",
    "version": 3
   },
   "file_extension": ".py",
   "mimetype": "text/x-python",
   "name": "python",
   "nbconvert_exporter": "python",
   "pygments_lexer": "ipython3",
   "version": "3.6.5"
  }
 },
 "nbformat": 4,
 "nbformat_minor": 2
}
